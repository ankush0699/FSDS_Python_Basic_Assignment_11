{
 "cells": [
  {
   "cell_type": "code",
   "execution_count": 16,
   "metadata": {},
   "outputs": [],
   "source": [
    "# Name: Ankush Shukla   e-mail: ankushshukla0612@gmail.com \n",
    "# Python_basic_assignment_18_june"
   ]
  },
  {
   "cell_type": "code",
   "execution_count": 17,
   "metadata": {},
   "outputs": [],
   "source": [
    "#Question_1:  What is the role of the 'else' block in a try-except statement? Provide an example\n",
    "#             scenario where it would be useful."
   ]
  },
  {
   "cell_type": "code",
   "execution_count": 18,
   "metadata": {},
   "outputs": [
    {
     "name": "stdout",
     "output_type": "stream",
     "text": [
      "You entered a valid positive integer: 5\n"
     ]
    }
   ],
   "source": [
    "#Answer:\n",
    "\n",
    "\"\"\"\n",
    "The 'else' block is used to specify a code block that should be executed if no exceptions are raised within the 'try' block.\"\"\"\n",
    "\n",
    "try:\n",
    "    user_input = int(input(\"Enter a positive integer: \"))\n",
    "except ValueError:\n",
    "    print(\"Error: Invalid input. Please enter a valid integer.\")\n",
    "else:\n",
    "    if user_input > 0:\n",
    "        print(\"You entered a valid positive integer:\", user_input)\n",
    "    else:\n",
    "        print(\"Error: You did not enter a positive integer.\")\n",
    "\n"
   ]
  },
  {
   "cell_type": "code",
   "execution_count": 19,
   "metadata": {},
   "outputs": [],
   "source": [
    "#Question_2:  Can a try-except block be nested inside another try-except block? Explain with an\n",
    "#             example."
   ]
  },
  {
   "cell_type": "code",
   "execution_count": 20,
   "metadata": {},
   "outputs": [
    {
     "name": "stdout",
     "output_type": "stream",
     "text": [
      "Result: 0.8888888888888888\n"
     ]
    }
   ],
   "source": [
    "#Answer:    Yes, a try-except block be nested inside another try-except block.\n",
    "\n",
    "try:\n",
    "    numerator = int(input(\"Enter an integer: \"))\n",
    "    \n",
    "    try:\n",
    "        denominator = int(input(\"Enter another integer: \"))\n",
    "        result = numerator / denominator\n",
    "        print(\"Result:\", result)\n",
    "    \n",
    "    except ZeroDivisionError:\n",
    "        print(\"Error: Division by zero in the inner block.\")\n",
    "    \n",
    "except ValueError:\n",
    "    print(\"Error: Invalid input in the outer block.\")\n"
   ]
  },
  {
   "cell_type": "code",
   "execution_count": 21,
   "metadata": {},
   "outputs": [],
   "source": [
    "#Question_3:  How can you create a custom exception class in Python? Provide an example that\n",
    "#             demonstrates its usage."
   ]
  },
  {
   "cell_type": "code",
   "execution_count": 22,
   "metadata": {},
   "outputs": [],
   "source": [
    "#Answer:\n",
    "\"\"\"We can create custom exception classes by defining a new class that inherits from the built-in Exception class.\"\"\"\n",
    "\n",
    "\n",
    "\n",
    "class MyCustomError(Exception):\n",
    "    pass\n",
    "\n",
    "try:\n",
    "    age = int(input(\"Enter your age: \"))\n",
    "    if age < 0:\n",
    "        raise MyCustomError(\"Age cannot be negative.\")\n",
    "except MyCustomError as e:\n",
    "    print(\"Custom Error:\", e)\n",
    "except ValueError:\n",
    "    print(\"Error: Invalid input. Please enter a valid age.\")\n"
   ]
  },
  {
   "cell_type": "code",
   "execution_count": 23,
   "metadata": {},
   "outputs": [],
   "source": [
    "#Question_4:  What are some common exceptions that are built-in to Python?  "
   ]
  },
  {
   "cell_type": "code",
   "execution_count": 24,
   "metadata": {},
   "outputs": [
    {
     "data": {
      "text/plain": [
       "'\\n1. SyntaxError\\n2. IndentationError\\n3. NameError\\n4. TypeError\\n5. ValueError\\n6. KeyError\\n7. IndexError\\n8. FileNotFoundError\\n9. IOError\\n10. ZeroDivisionError\\n11. AttributeError\\n12. ImportError\\n13. RecursionError\\n14. KeyboardInterrupt\\n15. MemoryError\\n\\n'"
      ]
     },
     "execution_count": 24,
     "metadata": {},
     "output_type": "execute_result"
    }
   ],
   "source": [
    "#Answer: These are just some of the built-in exceptions available in Python.\n",
    "\"\"\"\n",
    "1. SyntaxError\n",
    "2. IndentationError\n",
    "3. NameError\n",
    "4. TypeError\n",
    "5. ValueError\n",
    "6. KeyError\n",
    "7. IndexError\n",
    "8. FileNotFoundError\n",
    "9. IOError\n",
    "10. ZeroDivisionError\n",
    "11. AttributeError\n",
    "12. ImportError\n",
    "13. RecursionError\n",
    "14. KeyboardInterrupt\n",
    "15. MemoryError\n",
    "\n",
    "\"\"\""
   ]
  },
  {
   "cell_type": "code",
   "execution_count": 25,
   "metadata": {},
   "outputs": [],
   "source": [
    "#Question_5:  What is logging in Python, and why is it important in software development?"
   ]
  },
  {
   "cell_type": "code",
   "execution_count": 26,
   "metadata": {},
   "outputs": [
    {
     "data": {
      "text/plain": [
       "'In Python, the logging module provides a flexible and comprehensive logging framework that allows developers to configure and \\n   control logging behavior. This module enables developers to log messages at different levels of severity \\n   (e.g., DEBUG, INFO, WARNING, ERROR, CRITICAL), route log messages to various outputs (e.g., files, console, network services), \\n   and customize log formatting to suit their needs.'"
      ]
     },
     "execution_count": 26,
     "metadata": {},
     "output_type": "execute_result"
    }
   ],
   "source": [
    "#Answer:  \n",
    "\n",
    "\"\"\"In Python, the logging module provides a flexible and comprehensive logging framework that allows developers to configure and \n",
    "   control logging behavior. This module enables developers to log messages at different levels of severity \n",
    "   (e.g., DEBUG, INFO, WARNING, ERROR, CRITICAL), route log messages to various outputs (e.g., files, console, network services), \n",
    "   and customize log formatting to suit their needs.\"\"\""
   ]
  },
  {
   "cell_type": "code",
   "execution_count": 27,
   "metadata": {},
   "outputs": [],
   "source": [
    "#Question_6:  Explain the purpose of log levels in Python logging and provide examples of when\n",
    "#             each log level would be appropriate."
   ]
  },
  {
   "cell_type": "code",
   "execution_count": 28,
   "metadata": {},
   "outputs": [
    {
     "data": {
      "text/plain": [
       "\"In Python logging, log levels are used to categorize and prioritize log messages based on their severity. \\n   The purpose of log levels is to control the verbosity of log messages and to filter or prioritize the messages based on their significance.\\n    \\n\\n1. `DEBUG`: This is the lowest log level and is used for detailed debugging information. It's typically used during development \\n            to capture fine-grained information about the program's internal state or flow.\\n\\n    Example: Logging the values of variables, function entry and exit points, and detailed debugging information.\\n\\n2. `INFO`: This level is used for informational messages that describe the program's overall state and progress. \\n           It's helpful for understanding the program's high-level behavior.\\n\\n    Example: Logging when a program starts or completes a significant task, providing progress updates, or reporting configuration settings.\\n\\n3. `WARNING`: Warnings are used to indicate potential issues or anomalies that are not critical but should be noted. \\n              They serve as alerts to situations that might require attention.\\n\\n    Example: Logging a warning when a deprecated feature is used, or when a resource is running low but still within acceptable limits.\\n\\n4. `ERROR`: Errors represent more severe issues that should be addressed. They indicate that the program has encountered a problem \\n            that prevents it from operating normally.\\n\\n    Example: Logging errors when a file cannot be found, a required dependency is missing, or a critical operation fails.\\n\\n5. `CRITICAL`: This is the highest log level and is reserved for the most severe issues that may lead to program termination \\n               or significant data loss.\\n\\n    Example: Logging a critical error when a database connection cannot be established, or when a security breach is detected.\\n\""
      ]
     },
     "execution_count": 28,
     "metadata": {},
     "output_type": "execute_result"
    }
   ],
   "source": [
    "#Answer:   \n",
    "\n",
    "\"\"\"In Python logging, log levels are used to categorize and prioritize log messages based on their severity. \n",
    "   The purpose of log levels is to control the verbosity of log messages and to filter or prioritize the messages based on their significance.\n",
    "    \n",
    "\n",
    "1. `DEBUG`: This is the lowest log level and is used for detailed debugging information. It's typically used during development \n",
    "            to capture fine-grained information about the program's internal state or flow.\n",
    "\n",
    "    Example: Logging the values of variables, function entry and exit points, and detailed debugging information.\n",
    "\n",
    "2. `INFO`: This level is used for informational messages that describe the program's overall state and progress. \n",
    "           It's helpful for understanding the program's high-level behavior.\n",
    "\n",
    "    Example: Logging when a program starts or completes a significant task, providing progress updates, or reporting configuration settings.\n",
    "\n",
    "3. `WARNING`: Warnings are used to indicate potential issues or anomalies that are not critical but should be noted. \n",
    "              They serve as alerts to situations that might require attention.\n",
    "\n",
    "    Example: Logging a warning when a deprecated feature is used, or when a resource is running low but still within acceptable limits.\n",
    "\n",
    "4. `ERROR`: Errors represent more severe issues that should be addressed. They indicate that the program has encountered a problem \n",
    "            that prevents it from operating normally.\n",
    "\n",
    "    Example: Logging errors when a file cannot be found, a required dependency is missing, or a critical operation fails.\n",
    "\n",
    "5. `CRITICAL`: This is the highest log level and is reserved for the most severe issues that may lead to program termination \n",
    "               or significant data loss.\n",
    "\n",
    "    Example: Logging a critical error when a database connection cannot be established, or when a security breach is detected.\n",
    "\"\"\""
   ]
  },
  {
   "cell_type": "code",
   "execution_count": 29,
   "metadata": {},
   "outputs": [],
   "source": [
    "#Question_7:  What are log formatters in Python logging, and how can you customise the log\n",
    "#             message format using formatters?"
   ]
  },
  {
   "cell_type": "code",
   "execution_count": 30,
   "metadata": {},
   "outputs": [
    {
     "name": "stderr",
     "output_type": "stream",
     "text": [
      "2023-10-14 21:58:20,674 - example_logger - DEBUG - This is a debug message\n",
      "2023-10-14 21:58:20 - DEBUG - This is a debug message\n",
      "2023-10-14 21:58:20,676 - example_logger - INFO - This is an info message\n",
      "2023-10-14 21:58:20 - INFO - This is an info message\n",
      "2023-10-14 21:58:20,678 - example_logger - WARNING - This is a warning message\n",
      "2023-10-14 21:58:20 - WARNING - This is a warning message\n"
     ]
    }
   ],
   "source": [
    "#Answer:\n",
    "\n",
    "\"\"\"Log formatters in Python logging are objects responsible for specifying the layout and structure of log messages. \n",
    "   They determine how log records are formatted before being output to the chosen logging destination, such as a file, console, or network service. \n",
    "\"\"\"\n",
    "\n",
    "\n",
    "import logging\n",
    "\n",
    "# Create a logger and set its level\n",
    "logger = logging.getLogger(\"example_logger\")\n",
    "logger.setLevel(logging.DEBUG)\n",
    "\n",
    "# Create a console handler and set its level\n",
    "console_handler = logging.StreamHandler()\n",
    "console_handler.setLevel(logging.DEBUG)\n",
    "\n",
    "# Create a formatter\n",
    "formatter = logging.Formatter(\"%(asctime)s - %(name)s - %(levelname)s - %(message)s\")\n",
    "\n",
    "# Add the formatter to the handler\n",
    "console_handler.setFormatter(formatter)\n",
    "\n",
    "# Add the handler to the logger\n",
    "logger.addHandler(console_handler)\n",
    "\n",
    "# Log some messages\n",
    "logger.debug(\"This is a debug message\")\n",
    "logger.info(\"This is an info message\")\n",
    "logger.warning(\"This is a warning message\")\n"
   ]
  },
  {
   "cell_type": "code",
   "execution_count": 31,
   "metadata": {},
   "outputs": [],
   "source": [
    "#Question_8:  How can you set up logging to capture log messages from multiple modules or\n",
    "#             classes in a Python application?"
   ]
  },
  {
   "cell_type": "code",
   "execution_count": 32,
   "metadata": {},
   "outputs": [
    {
     "data": {
      "text/plain": [
       "'\\n# Create a Logger: First, create a logger using the logging.getLogger() method. Give each module or class a unique name for the logger to distinguish the source of log messages.\\n\\n# Configure Logging Levels: Set the desired logging level for each logger. This determines the minimum log level that will be recorded. For example, you can set some loggers to capture DEBUG messages, while others may only capture INFO or higher-level messages.\\n\\n# Create Handlers: Create one or more handlers to define where the log messages should be output. Common output destinations include files, the console, or network services. You can configure different handlers for different loggers based on your needs.\\n\\n# Set Formatters: Define log message formatting for each handler using logging.Formatter objects. Each formatter can be tailored to the specific requirements of the log messages.\\n\\n# Associate Handlers with Loggers: Assign the created handlers to the corresponding loggers using the setHandler() method.\\n\\n'"
      ]
     },
     "execution_count": 32,
     "metadata": {},
     "output_type": "execute_result"
    }
   ],
   "source": [
    "#Answer:\n",
    "\n",
    "\"\"\"\n",
    "# Create a Logger: First, create a logger using the logging.getLogger() method. Give each module or class a unique name for the logger to distinguish the source of log messages.\n",
    "\n",
    "# Configure Logging Levels: Set the desired logging level for each logger. This determines the minimum log level that will be recorded. For example, you can set some loggers to capture DEBUG messages, while others may only capture INFO or higher-level messages.\n",
    "\n",
    "# Create Handlers: Create one or more handlers to define where the log messages should be output. Common output destinations include files, the console, or network services. You can configure different handlers for different loggers based on your needs.\n",
    "\n",
    "# Set Formatters: Define log message formatting for each handler using logging.Formatter objects. Each formatter can be tailored to the specific requirements of the log messages.\n",
    "\n",
    "# Associate Handlers with Loggers: Assign the created handlers to the corresponding loggers using the setHandler() method.\n",
    "\n",
    "\"\"\""
   ]
  },
  {
   "cell_type": "code",
   "execution_count": 33,
   "metadata": {},
   "outputs": [],
   "source": [
    "#Question_9: What is the difference between the logging and print statements in Python? \n",
    "#            When should you use logging over print statements in a real-world application?"
   ]
  },
  {
   "cell_type": "code",
   "execution_count": 34,
   "metadata": {},
   "outputs": [
    {
     "data": {
      "text/plain": [
       "\"\\nLogging and print statements serve different purposes in Python, and they have distinct characteristics. \\n\\nHere are the key differences between them:\\n\\n\\n1. Output Destination:\\n   - print: The `print` statement sends output to the standard output (usually the console), which is suitable for basic debugging and quick inspection of program state during development.\\n   - logging: The `logging` module allows you to send log messages to various destinations, including files, the console, network services, or custom handlers. This makes it more flexible for different scenarios, such as production logging.\\n\\n2. Logging Levels:\\n   - print: `print` statements are typically unconditional and provide no built-in mechanism for distinguishing the severity of the message. All messages are treated equally.\\n   - logging: The `logging` module offers different logging levels (e.g., DEBUG, INFO, WARNING, ERROR, CRITICAL) to categorize and prioritize log messages based on their severity. This allows for fine-grained control over what gets logged.\\n\\n3. Formatting:\\n   - print: The output of `print` statements is typically unformatted and may include just the content of the printed objects.\\n   - logging: Log messages can be formatted using custom formatters, including timestamps, log levels, and additional context information, making them more informative and suitable for tracking program behavior and diagnosing issues.\\n\\n4. Configurability:\\n   - print: `print` statements do not offer much configurability. They are often used during development but can clutter the console in production, making it challenging to extract useful information.\\n   - logging: The `logging` module allows for extensive configuration, including the ability to enable or disable logging at different levels, route log messages to various destinations, and adjust logging behavior without changing the source code.\\n\\n   \\n#  In a real-world application, we should use `logging` over `print` statements for several reasons:\\n\\n1. Separation of Concerns: `logging` helps separate concerns by providing a dedicated mechanism for handling log messages. This makes it easier to manage and filter log information separately from the application's core functionality.\\n\\n2. Flexibility: The `logging` module provides a flexible and configurable logging framework. You can direct log messages to different outputs, enable or disable logging at different levels, and change the log message format without modifying the application code.\\n\\n3. Debugging and Maintenance: `print` statements are useful for quick debugging during development, but they are not suitable for long-term maintenance. Logging with different levels helps in debugging, monitoring, and diagnosing issues in production systems.\\n\\n4. Security and Compliance: In security-sensitive applications or environments where compliance requirements exist, logging is crucial for creating audit trails and monitoring for potential security breaches.\\n\\n5. Error Handling: Logging is ideal for handling errors, warnings, and exceptions in a structured and organized way, allowing you to differentiate between normal application output and error messages.\\n\\n\""
      ]
     },
     "execution_count": 34,
     "metadata": {},
     "output_type": "execute_result"
    }
   ],
   "source": [
    "#Answer:\n",
    "\n",
    "\"\"\"\n",
    "Logging and print statements serve different purposes in Python, and they have distinct characteristics. \n",
    "\n",
    "Here are the key differences between them:\n",
    "\n",
    "\n",
    "1. Output Destination:\n",
    "   - print: The `print` statement sends output to the standard output (usually the console), which is suitable for basic debugging and quick inspection of program state during development.\n",
    "   - logging: The `logging` module allows you to send log messages to various destinations, including files, the console, network services, or custom handlers. This makes it more flexible for different scenarios, such as production logging.\n",
    "\n",
    "2. Logging Levels:\n",
    "   - print: `print` statements are typically unconditional and provide no built-in mechanism for distinguishing the severity of the message. All messages are treated equally.\n",
    "   - logging: The `logging` module offers different logging levels (e.g., DEBUG, INFO, WARNING, ERROR, CRITICAL) to categorize and prioritize log messages based on their severity. This allows for fine-grained control over what gets logged.\n",
    "\n",
    "3. Formatting:\n",
    "   - print: The output of `print` statements is typically unformatted and may include just the content of the printed objects.\n",
    "   - logging: Log messages can be formatted using custom formatters, including timestamps, log levels, and additional context information, making them more informative and suitable for tracking program behavior and diagnosing issues.\n",
    "\n",
    "4. Configurability:\n",
    "   - print: `print` statements do not offer much configurability. They are often used during development but can clutter the console in production, making it challenging to extract useful information.\n",
    "   - logging: The `logging` module allows for extensive configuration, including the ability to enable or disable logging at different levels, route log messages to various destinations, and adjust logging behavior without changing the source code.\n",
    "\n",
    "   \n",
    "#  In a real-world application, we should use `logging` over `print` statements for several reasons:\n",
    "\n",
    "1. Separation of Concerns: `logging` helps separate concerns by providing a dedicated mechanism for handling log messages. This makes it easier to manage and filter log information separately from the application's core functionality.\n",
    "\n",
    "2. Flexibility: The `logging` module provides a flexible and configurable logging framework. You can direct log messages to different outputs, enable or disable logging at different levels, and change the log message format without modifying the application code.\n",
    "\n",
    "3. Debugging and Maintenance: `print` statements are useful for quick debugging during development, but they are not suitable for long-term maintenance. Logging with different levels helps in debugging, monitoring, and diagnosing issues in production systems.\n",
    "\n",
    "4. Security and Compliance: In security-sensitive applications or environments where compliance requirements exist, logging is crucial for creating audit trails and monitoring for potential security breaches.\n",
    "\n",
    "5. Error Handling: Logging is ideal for handling errors, warnings, and exceptions in a structured and organized way, allowing you to differentiate between normal application output and error messages.\n",
    "\n",
    "\"\"\""
   ]
  },
  {
   "cell_type": "code",
   "execution_count": 35,
   "metadata": {},
   "outputs": [],
   "source": [
    "#Question_10:  Write a Python program that logs a message to a file named \"app.log\" with the\n",
    "#              following requirements:\n",
    "#              1. The log message should be \"Hello, World!\"\n",
    "#              2. The log level should be set to \"INFO.\"\n",
    "#              3. The log file should append new log entries without overwriting previous ones."
   ]
  },
  {
   "cell_type": "code",
   "execution_count": 36,
   "metadata": {},
   "outputs": [
    {
     "name": "stderr",
     "output_type": "stream",
     "text": [
      "2023-10-14 21:58:20 - INFO - Hello, World!\n"
     ]
    }
   ],
   "source": [
    "import logging\n",
    "\n",
    "# Create a logger\n",
    "logger = logging.getLogger(\"my_app_logger\")\n",
    "logger.setLevel(logging.INFO)\n",
    "\n",
    "# Create a file handler to log to \"app.log\"\n",
    "file_handler = logging.FileHandler(\"app.log\", mode=\"a\")  # \"a\" mode appends to the file\n",
    "\n",
    "# Create a formatter\n",
    "formatter = logging.Formatter(\"%(asctime)s - %(levelname)s - %(message)s\", datefmt=\"%Y-%m-%d %H:%M:%S\")\n",
    "\n",
    "# Set the formatter for the file handler\n",
    "file_handler.setFormatter(formatter)\n",
    "\n",
    "# Add the file handler to the logger\n",
    "logger.addHandler(file_handler)\n",
    "\n",
    "# Log the message\n",
    "logger.info(\"Hello, World!\")\n"
   ]
  },
  {
   "cell_type": "code",
   "execution_count": 37,
   "metadata": {},
   "outputs": [],
   "source": [
    "#Question_11:  Create a Python program that logs an error message to the console and a file named\n",
    "#              \"errors.log\" if an exception occurs during the program's execution. The error\n",
    "#              message should include the exception type and a timestamp."
   ]
  },
  {
   "cell_type": "code",
   "execution_count": 38,
   "metadata": {},
   "outputs": [
    {
     "name": "stderr",
     "output_type": "stream",
     "text": [
      "2023-10-14 21:58:20 - ERROR - Exception: ZeroDivisionError - division by zero\n"
     ]
    },
    {
     "name": "stdout",
     "output_type": "stream",
     "text": [
      "Program continues after exception.\n"
     ]
    }
   ],
   "source": [
    "import logging\n",
    "import datetime\n",
    "\n",
    "# Configure logging to log errors to both the console and a file\n",
    "logging.basicConfig(\n",
    "    level=logging.ERROR,\n",
    "    format=\"%(asctime)s - %(levelname)s - %(message)s\",\n",
    "    datefmt=\"%Y-%m-%d %H:%M:%S\",\n",
    "    handlers=[\n",
    "        logging.StreamHandler(),  # Log to the console\n",
    "        logging.FileHandler(\"errors.log\", mode=\"a\")  # Log to a file (append mode)\n",
    "    ]\n",
    ")\n",
    "\n",
    "try:\n",
    "    # Simulate an exception by dividing by zero\n",
    "    result = 1 / 0\n",
    "except Exception as e:\n",
    "    # Log the exception to both console and the \"errors.log\" file\n",
    "    logging.error(f\"Exception: {type(e).__name__} - {str(e)}\")\n",
    "\n",
    "# Continue with the rest of the program\n",
    "print(\"Program continues after exception.\")\n"
   ]
  }
 ],
 "metadata": {
  "kernelspec": {
   "display_name": "base",
   "language": "python",
   "name": "python3"
  },
  "language_info": {
   "codemirror_mode": {
    "name": "ipython",
    "version": 3
   },
   "file_extension": ".py",
   "mimetype": "text/x-python",
   "name": "python",
   "nbconvert_exporter": "python",
   "pygments_lexer": "ipython3",
   "version": "3.11.4"
  }
 },
 "nbformat": 4,
 "nbformat_minor": 2
}
